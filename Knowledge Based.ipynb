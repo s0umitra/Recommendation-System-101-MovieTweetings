{
 "cells": [
  {
   "cell_type": "markdown",
   "metadata": {},
   "source": [
    "# Recommendation System\n",
    "## Knowledge Based\n",
    "#### (Soumitra Dnyaneshwar Edake)"
   ]
  },
  {
   "cell_type": "code",
   "execution_count": 76,
   "metadata": {},
   "outputs": [],
   "source": [
    "#imports\n",
    "import numpy as np\n",
    "import pandas as pd\n",
    "import matplotlib.pyplot as plt\n",
    "import os\n",
    "import datetime\n",
    "\n",
    "%matplotlib inline"
   ]
  },
  {
   "cell_type": "markdown",
   "metadata": {},
   "source": [
    "### Build the DataFrames"
   ]
  },
  {
   "cell_type": "code",
   "execution_count": 77,
   "metadata": {},
   "outputs": [],
   "source": [
    "def get_cleaned_df():\n",
    "    path_movies = 'data/movies_clean.csv'\n",
    "    path_reviews = 'data/reviews_clean.csv'\n",
    "    \n",
    "    if not os.path.exists(path_reviews):\n",
    "        \n",
    "        print('Cleaning REVIEW data')\n",
    "        \n",
    "        reviews = pd.read_csv('data/ratings.dat', delimiter='::', header=None,\n",
    "                              names=['user_id', 'movie_id', 'rating', 'timestamp'],\n",
    "                              dtype={'movie_id': object, 'user_id': object, 'timestamp': object},\n",
    "                              engine='python')\n",
    "        \n",
    "        change_timestamp = lambda val: datetime.datetime.fromtimestamp(int(val)).strftime('%Y-%m-%d %H:%M:%S')\n",
    "\n",
    "        reviews['date'] = reviews['timestamp'].apply(change_timestamp)\n",
    "        \n",
    "        print(\"Saving cleaned REVIEW data\")    \n",
    "        reviews.to_csv('data/reviews_clean.csv')\n",
    "\n",
    "    else:\n",
    "        \n",
    "        print('Loading cleaned REVIEW data')\n",
    "        reviews = pd.read_csv('data/reviews_clean.csv')\n",
    "        \n",
    "    if not os.path.exists(path_movies):\n",
    "        \n",
    "        print('Cleaning MOVIE data')\n",
    "        \n",
    "        movies = pd.read_csv('data/movies.dat', delimiter='::', header=None,\n",
    "                             names=['movie_id', 'movie', 'genre'],\n",
    "                             dtype={'movie_id': object},\n",
    "                             engine='python')\n",
    "          \n",
    "        movies = dummy_genres(movies)\n",
    "        movies = dummy_dates(movies)\n",
    "        \n",
    "        print(\"Saving cleaned MOVIE data\")\n",
    "        movies.to_csv('data/movies_clean.csv')\n",
    "   \n",
    "    else:\n",
    "        print('Loading cleaned MOVIE data')\n",
    "        movies = pd.read_csv('data/movies_clean.csv')\n",
    "        \n",
    "    print('done')\n",
    "    \n",
    "    return movies, reviews"
   ]
  },
  {
   "cell_type": "code",
   "execution_count": 78,
   "metadata": {},
   "outputs": [],
   "source": [
    "def get_split_genres(genres):\n",
    "    \n",
    "    def split_genres(val):\n",
    "        try:\n",
    "            if val.find(gene) >-1:\n",
    "                return 1\n",
    "            else:\n",
    "                return 0\n",
    "        except AttributeError:\n",
    "            return 0\n",
    "    \n",
    "    for gene in genres:        \n",
    "        movies[gene] = movies['genre'].apply(split_genres)\n",
    "        \n",
    "    return movies\n",
    "        \n",
    "def dummy_genres(movies):\n",
    "    genres = list()\n",
    "        \n",
    "    for val in movies.genre:\n",
    "        try:\n",
    "            genres.extend(val.split('|'))\n",
    "        except AttributeError:\n",
    "            pass\n",
    "    \n",
    "    genres = set(genres)\n",
    "    \n",
    "    movies = get_split_genres(genres)\n",
    "    \n",
    "    return movies"
   ]
  },
  {
   "cell_type": "code",
   "execution_count": 79,
   "metadata": {},
   "outputs": [],
   "source": [
    "def get_add_movie_year():\n",
    "\n",
    "    def add_movie_year(val):\n",
    "        if val[:2] == yr:\n",
    "            return 1\n",
    "        else:\n",
    "            return 0\n",
    "    for yr in ['18', '19', '20']:\n",
    "        movies[str(yr) + \"00's\"] = movies['date'].apply(add_movie_year)\n",
    "        \n",
    "    return movies\n",
    "            \n",
    "def dummy_dates(movies):\n",
    "    create_date = lambda val: val[-5:-1] if val[-1] == ')' else np.nan\n",
    "\n",
    "    movies['date'] = movies['movie'].apply(create_date)\n",
    "\n",
    "    movies = get_add_movie_year()\n",
    "        \n",
    "    return movies"
   ]
  },
  {
   "cell_type": "markdown",
   "metadata": {},
   "source": [
    "Load Cleaned DataFrames"
   ]
  },
  {
   "cell_type": "code",
   "execution_count": 90,
   "metadata": {},
   "outputs": [
    {
     "name": "stdout",
     "output_type": "stream",
     "text": [
      "Loading cleaned REVIEW data\n",
      "Loading cleaned MOVIE data\n",
      "done\n"
     ]
    }
   ],
   "source": [
    "movies, reviews = get_cleaned_df()"
   ]
  },
  {
   "cell_type": "code",
   "execution_count": 91,
   "metadata": {},
   "outputs": [
    {
     "data": {
      "text/plain": [
       "(Index(['Unnamed: 0', 'movie_id', 'movie', 'genre', 'date', '1800's', '1900's',\n",
       "        '2000's', 'Comedy', 'Crime', 'Drama', 'Thriller', 'Action', 'Game-Show',\n",
       "        'Adult', 'Sci-Fi', 'Film-Noir', 'Musical', 'History', 'Fantasy',\n",
       "        'Family', 'Animation', 'Adventure', 'News', 'Mystery', 'Talk-Show',\n",
       "        'Sport', 'Romance', 'Western', 'Horror', 'War', 'Short', 'Reality-TV',\n",
       "        'Music', 'Documentary', 'Biography'],\n",
       "       dtype='object'),\n",
       " Index(['Unnamed: 0', 'user_id', 'movie_id', 'rating', 'timestamp', 'date'], dtype='object'))"
      ]
     },
     "execution_count": 91,
     "metadata": {},
     "output_type": "execute_result"
    }
   ],
   "source": [
    "movies.columns, reviews.columns"
   ]
  },
  {
   "cell_type": "code",
   "execution_count": 92,
   "metadata": {},
   "outputs": [],
   "source": [
    "del movies['Unnamed: 0']\n",
    "del reviews['Unnamed: 0']"
   ]
  },
  {
   "cell_type": "code",
   "execution_count": 93,
   "metadata": {},
   "outputs": [
    {
     "data": {
      "text/plain": [
       "(Index(['movie_id', 'movie', 'genre', 'date', '1800's', '1900's', '2000's',\n",
       "        'Comedy', 'Crime', 'Drama', 'Thriller', 'Action', 'Game-Show', 'Adult',\n",
       "        'Sci-Fi', 'Film-Noir', 'Musical', 'History', 'Fantasy', 'Family',\n",
       "        'Animation', 'Adventure', 'News', 'Mystery', 'Talk-Show', 'Sport',\n",
       "        'Romance', 'Western', 'Horror', 'War', 'Short', 'Reality-TV', 'Music',\n",
       "        'Documentary', 'Biography'],\n",
       "       dtype='object'),\n",
       " Index(['user_id', 'movie_id', 'rating', 'timestamp', 'date'], dtype='object'))"
      ]
     },
     "execution_count": 93,
     "metadata": {},
     "output_type": "execute_result"
    }
   ],
   "source": [
    "movies.columns, reviews.columns"
   ]
  },
  {
   "cell_type": "markdown",
   "metadata": {},
   "source": [
    "Now we have our Dataset"
   ]
  },
  {
   "cell_type": "code",
   "execution_count": 94,
   "metadata": {},
   "outputs": [
    {
     "data": {
      "text/html": [
       "<div>\n",
       "<style scoped>\n",
       "    .dataframe tbody tr th:only-of-type {\n",
       "        vertical-align: middle;\n",
       "    }\n",
       "\n",
       "    .dataframe tbody tr th {\n",
       "        vertical-align: top;\n",
       "    }\n",
       "\n",
       "    .dataframe thead th {\n",
       "        text-align: right;\n",
       "    }\n",
       "</style>\n",
       "<table border=\"1\" class=\"dataframe\">\n",
       "  <thead>\n",
       "    <tr style=\"text-align: right;\">\n",
       "      <th></th>\n",
       "      <th>movie_id</th>\n",
       "      <th>movie</th>\n",
       "      <th>genre</th>\n",
       "      <th>date</th>\n",
       "      <th>1800's</th>\n",
       "      <th>1900's</th>\n",
       "      <th>2000's</th>\n",
       "      <th>Comedy</th>\n",
       "      <th>Crime</th>\n",
       "      <th>Drama</th>\n",
       "      <th>...</th>\n",
       "      <th>Sport</th>\n",
       "      <th>Romance</th>\n",
       "      <th>Western</th>\n",
       "      <th>Horror</th>\n",
       "      <th>War</th>\n",
       "      <th>Short</th>\n",
       "      <th>Reality-TV</th>\n",
       "      <th>Music</th>\n",
       "      <th>Documentary</th>\n",
       "      <th>Biography</th>\n",
       "    </tr>\n",
       "  </thead>\n",
       "  <tbody>\n",
       "    <tr>\n",
       "      <th>0</th>\n",
       "      <td>8</td>\n",
       "      <td>Edison Kinetoscopic Record of a Sneeze (1894)</td>\n",
       "      <td>Documentary|Short</td>\n",
       "      <td>1894</td>\n",
       "      <td>1</td>\n",
       "      <td>0</td>\n",
       "      <td>0</td>\n",
       "      <td>0</td>\n",
       "      <td>0</td>\n",
       "      <td>0</td>\n",
       "      <td>...</td>\n",
       "      <td>0</td>\n",
       "      <td>0</td>\n",
       "      <td>0</td>\n",
       "      <td>0</td>\n",
       "      <td>0</td>\n",
       "      <td>1</td>\n",
       "      <td>0</td>\n",
       "      <td>0</td>\n",
       "      <td>1</td>\n",
       "      <td>0</td>\n",
       "    </tr>\n",
       "    <tr>\n",
       "      <th>1</th>\n",
       "      <td>10</td>\n",
       "      <td>La sortie des usines LumiÃ¨re (1895)</td>\n",
       "      <td>Documentary|Short</td>\n",
       "      <td>1895</td>\n",
       "      <td>1</td>\n",
       "      <td>0</td>\n",
       "      <td>0</td>\n",
       "      <td>0</td>\n",
       "      <td>0</td>\n",
       "      <td>0</td>\n",
       "      <td>...</td>\n",
       "      <td>0</td>\n",
       "      <td>0</td>\n",
       "      <td>0</td>\n",
       "      <td>0</td>\n",
       "      <td>0</td>\n",
       "      <td>1</td>\n",
       "      <td>0</td>\n",
       "      <td>0</td>\n",
       "      <td>1</td>\n",
       "      <td>0</td>\n",
       "    </tr>\n",
       "    <tr>\n",
       "      <th>2</th>\n",
       "      <td>12</td>\n",
       "      <td>The Arrival of a Train (1896)</td>\n",
       "      <td>Documentary|Short</td>\n",
       "      <td>1896</td>\n",
       "      <td>1</td>\n",
       "      <td>0</td>\n",
       "      <td>0</td>\n",
       "      <td>0</td>\n",
       "      <td>0</td>\n",
       "      <td>0</td>\n",
       "      <td>...</td>\n",
       "      <td>0</td>\n",
       "      <td>0</td>\n",
       "      <td>0</td>\n",
       "      <td>0</td>\n",
       "      <td>0</td>\n",
       "      <td>1</td>\n",
       "      <td>0</td>\n",
       "      <td>0</td>\n",
       "      <td>1</td>\n",
       "      <td>0</td>\n",
       "    </tr>\n",
       "    <tr>\n",
       "      <th>3</th>\n",
       "      <td>25</td>\n",
       "      <td>The Oxford and Cambridge University Boat Race ...</td>\n",
       "      <td>NaN</td>\n",
       "      <td>1895</td>\n",
       "      <td>1</td>\n",
       "      <td>0</td>\n",
       "      <td>0</td>\n",
       "      <td>0</td>\n",
       "      <td>0</td>\n",
       "      <td>0</td>\n",
       "      <td>...</td>\n",
       "      <td>0</td>\n",
       "      <td>0</td>\n",
       "      <td>0</td>\n",
       "      <td>0</td>\n",
       "      <td>0</td>\n",
       "      <td>0</td>\n",
       "      <td>0</td>\n",
       "      <td>0</td>\n",
       "      <td>0</td>\n",
       "      <td>0</td>\n",
       "    </tr>\n",
       "    <tr>\n",
       "      <th>4</th>\n",
       "      <td>91</td>\n",
       "      <td>Le manoir du diable (1896)</td>\n",
       "      <td>Short|Horror</td>\n",
       "      <td>1896</td>\n",
       "      <td>1</td>\n",
       "      <td>0</td>\n",
       "      <td>0</td>\n",
       "      <td>0</td>\n",
       "      <td>0</td>\n",
       "      <td>0</td>\n",
       "      <td>...</td>\n",
       "      <td>0</td>\n",
       "      <td>0</td>\n",
       "      <td>0</td>\n",
       "      <td>1</td>\n",
       "      <td>0</td>\n",
       "      <td>1</td>\n",
       "      <td>0</td>\n",
       "      <td>0</td>\n",
       "      <td>0</td>\n",
       "      <td>0</td>\n",
       "    </tr>\n",
       "  </tbody>\n",
       "</table>\n",
       "<p>5 rows × 35 columns</p>\n",
       "</div>"
      ],
      "text/plain": [
       "   movie_id                                              movie  \\\n",
       "0         8      Edison Kinetoscopic Record of a Sneeze (1894)   \n",
       "1        10               La sortie des usines LumiÃ¨re (1895)   \n",
       "2        12                      The Arrival of a Train (1896)   \n",
       "3        25  The Oxford and Cambridge University Boat Race ...   \n",
       "4        91                         Le manoir du diable (1896)   \n",
       "\n",
       "               genre  date  1800's  1900's  2000's  Comedy  Crime  Drama  \\\n",
       "0  Documentary|Short  1894       1       0       0       0      0      0   \n",
       "1  Documentary|Short  1895       1       0       0       0      0      0   \n",
       "2  Documentary|Short  1896       1       0       0       0      0      0   \n",
       "3                NaN  1895       1       0       0       0      0      0   \n",
       "4       Short|Horror  1896       1       0       0       0      0      0   \n",
       "\n",
       "     ...      Sport  Romance  Western  Horror  War  Short  Reality-TV  Music  \\\n",
       "0    ...          0        0        0       0    0      1           0      0   \n",
       "1    ...          0        0        0       0    0      1           0      0   \n",
       "2    ...          0        0        0       0    0      1           0      0   \n",
       "3    ...          0        0        0       0    0      0           0      0   \n",
       "4    ...          0        0        0       1    0      1           0      0   \n",
       "\n",
       "   Documentary  Biography  \n",
       "0            1          0  \n",
       "1            1          0  \n",
       "2            1          0  \n",
       "3            0          0  \n",
       "4            0          0  \n",
       "\n",
       "[5 rows x 35 columns]"
      ]
     },
     "execution_count": 94,
     "metadata": {},
     "output_type": "execute_result"
    }
   ],
   "source": [
    "movies.head()"
   ]
  },
  {
   "cell_type": "code",
   "execution_count": 95,
   "metadata": {},
   "outputs": [
    {
     "data": {
      "text/html": [
       "<div>\n",
       "<style scoped>\n",
       "    .dataframe tbody tr th:only-of-type {\n",
       "        vertical-align: middle;\n",
       "    }\n",
       "\n",
       "    .dataframe tbody tr th {\n",
       "        vertical-align: top;\n",
       "    }\n",
       "\n",
       "    .dataframe thead th {\n",
       "        text-align: right;\n",
       "    }\n",
       "</style>\n",
       "<table border=\"1\" class=\"dataframe\">\n",
       "  <thead>\n",
       "    <tr style=\"text-align: right;\">\n",
       "      <th></th>\n",
       "      <th>user_id</th>\n",
       "      <th>movie_id</th>\n",
       "      <th>rating</th>\n",
       "      <th>timestamp</th>\n",
       "      <th>date</th>\n",
       "    </tr>\n",
       "  </thead>\n",
       "  <tbody>\n",
       "    <tr>\n",
       "      <th>0</th>\n",
       "      <td>1</td>\n",
       "      <td>114508</td>\n",
       "      <td>8</td>\n",
       "      <td>1381006850</td>\n",
       "      <td>2013-10-06 02:30:50</td>\n",
       "    </tr>\n",
       "    <tr>\n",
       "      <th>1</th>\n",
       "      <td>2</td>\n",
       "      <td>208092</td>\n",
       "      <td>5</td>\n",
       "      <td>1586466072</td>\n",
       "      <td>2020-04-10 02:31:12</td>\n",
       "    </tr>\n",
       "    <tr>\n",
       "      <th>2</th>\n",
       "      <td>2</td>\n",
       "      <td>358273</td>\n",
       "      <td>9</td>\n",
       "      <td>1579057827</td>\n",
       "      <td>2020-01-15 08:40:27</td>\n",
       "    </tr>\n",
       "    <tr>\n",
       "      <th>3</th>\n",
       "      <td>2</td>\n",
       "      <td>10039344</td>\n",
       "      <td>5</td>\n",
       "      <td>1578603053</td>\n",
       "      <td>2020-01-10 02:20:53</td>\n",
       "    </tr>\n",
       "    <tr>\n",
       "      <th>4</th>\n",
       "      <td>2</td>\n",
       "      <td>6751668</td>\n",
       "      <td>9</td>\n",
       "      <td>1578955697</td>\n",
       "      <td>2020-01-14 04:18:17</td>\n",
       "    </tr>\n",
       "  </tbody>\n",
       "</table>\n",
       "</div>"
      ],
      "text/plain": [
       "   user_id  movie_id  rating   timestamp                 date\n",
       "0        1    114508       8  1381006850  2013-10-06 02:30:50\n",
       "1        2    208092       5  1586466072  2020-04-10 02:31:12\n",
       "2        2    358273       9  1579057827  2020-01-15 08:40:27\n",
       "3        2  10039344       5  1578603053  2020-01-10 02:20:53\n",
       "4        2   6751668       9  1578955697  2020-01-14 04:18:17"
      ]
     },
     "execution_count": 95,
     "metadata": {},
     "output_type": "execute_result"
    }
   ],
   "source": [
    "reviews.head()"
   ]
  },
  {
   "cell_type": "markdown",
   "metadata": {},
   "source": [
    "### Ranking System"
   ]
  },
  {
   "cell_type": "code",
   "execution_count": null,
   "metadata": {},
   "outputs": [],
   "source": []
  },
  {
   "cell_type": "code",
   "execution_count": 97,
   "metadata": {},
   "outputs": [],
   "source": [
    "def create_ranked_df(movies, reviews):\n",
    "    \n",
    "    movie_ratings = reviews.groupby('movie_id')['rating']\n",
    "    avg_ratings = movie_ratings.mean()\n",
    "    num_ratings = movie_ratings.count()\n",
    "    last_rating = pd.DataFrame(reviews.groupby('movie_id').max()['date'])\n",
    "    last_rating.columns = ['last_rating']\n",
    "\n",
    "    rating_count_df = pd.DataFrame({'avg_rating': avg_ratings, 'num_ratings': num_ratings})\n",
    "    rating_count_df = rating_count_df.join(last_rating)\n",
    "\n",
    "    movie_recs = movies.set_index('movie_id').join(rating_count_df)\n",
    "    \n",
    "    ranked_movies = movie_recs.sort_values(['avg_rating', 'num_ratings', 'last_rating'], ascending=False)\n",
    "    ranked_movies = ranked_movies[ranked_movies['num_ratings'] > 4]\n",
    "\n",
    "    return ranked_movies\n",
    "    \n",
    "\n",
    "def popular_recommendations(user_id, n_top, ranked_movies):\n",
    "    \n",
    "    top_movies = list(ranked_movies['movie'][:n_top])\n",
    "    \n",
    "    return top_movies"
   ]
  },
  {
   "cell_type": "markdown",
   "metadata": {},
   "source": [
    "Using above functions, we get the array of movies ordered by popularity"
   ]
  },
  {
   "cell_type": "code",
   "execution_count": 98,
   "metadata": {},
   "outputs": [],
   "source": [
    "ranked_movies = create_ranked_df(movies, reviews)"
   ]
  },
  {
   "cell_type": "code",
   "execution_count": null,
   "metadata": {},
   "outputs": [],
   "source": [
    "ranked_movies."
   ]
  },
  {
   "cell_type": "markdown",
   "metadata": {},
   "source": [
    "Now lets make some recommendations"
   ]
  },
  {
   "cell_type": "code",
   "execution_count": 29,
   "metadata": {},
   "outputs": [
    {
     "data": {
      "text/plain": [
       "['MSG 2 the Messenger (2015)',\n",
       " 'Avengers: Age of Ultron Parody (2015)',\n",
       " 'Five Minutes (2017)',\n",
       " 'Selam (2013)',\n",
       " 'Let There Be Light (2017)']"
      ]
     },
     "execution_count": 29,
     "metadata": {},
     "output_type": "execute_result"
    }
   ],
   "source": [
    "user = '1202'\n",
    "no_of_recommendations = 5\n",
    "\n",
    "popular_recommendations(user, no_of_recommendations, ranked_movies)"
   ]
  },
  {
   "cell_type": "code",
   "execution_count": 30,
   "metadata": {},
   "outputs": [
    {
     "data": {
      "text/plain": [
       "['MSG 2 the Messenger (2015)',\n",
       " 'Avengers: Age of Ultron Parody (2015)',\n",
       " 'Five Minutes (2017)',\n",
       " 'Selam (2013)',\n",
       " 'Let There Be Light (2017)',\n",
       " \"Quiet Riot: Well Now You're Here, There's No Way Back (2014)\",\n",
       " 'Crawl Bitch Crawl (2012)',\n",
       " 'Chasing Happiness (2019)',\n",
       " 'Make Like a Dog (2015)',\n",
       " 'Pandorica (2016)']"
      ]
     },
     "execution_count": 30,
     "metadata": {},
     "output_type": "execute_result"
    }
   ],
   "source": [
    "user = '4302'\n",
    "no_of_recommendations = 10\n",
    "\n",
    "popular_recommendations(user, no_of_recommendations, ranked_movies)"
   ]
  },
  {
   "cell_type": "markdown",
   "metadata": {},
   "source": [
    "For now, there is no use of user_id in the recommendation system, as we are\n",
    "ranking the movies based on the knowledge we have like ratings and genre"
   ]
  },
  {
   "cell_type": "markdown",
   "metadata": {},
   "source": [
    "### Adding a Filter system"
   ]
  },
  {
   "cell_type": "code",
   "execution_count": 16,
   "metadata": {},
   "outputs": [],
   "source": [
    "def filter_rec(user_id, n_top, ranked_movies, years=None, genres=None):\n",
    "    \n",
    "    if years is not None:\n",
    "        ranked_movies = ranked_movies[ranked_movies['date'].isin(years)]\n",
    "\n",
    "    if genres is not None:\n",
    "        num_genre_match = ranked_movies[genres].sum(axis=1)\n",
    "        ranked_movies = ranked_movies.loc[num_genre_match > 0, :]\n",
    "            \n",
    "            \n",
    "    # create top movies list \n",
    "    top_movies = list(ranked_movies['movie'][:n_top])\n",
    "\n",
    "    return top_movies\n"
   ]
  },
  {
   "cell_type": "code",
   "execution_count": 17,
   "metadata": {},
   "outputs": [
    {
     "data": {
      "text/plain": [
       "[\"Hillary's America: The Secret History of the Democratic Party (2016)\",\n",
       " 'I Believe in Miracles (2015)',\n",
       " 'O.J.: Made in America (2016)',\n",
       " 'Ayla: The Daughter of War (2017)',\n",
       " 'Hacksaw Ridge (2016)',\n",
       " 'They Shall Not Grow Old (2018)',\n",
       " 'Namhansanseong (2017)',\n",
       " 'The Farthest (2017)',\n",
       " 'Kono sekai no katasumi ni (2016)',\n",
       " 'Sado (2015)',\n",
       " 'Silicon Cowboys (2016)',\n",
       " '13th (2016)',\n",
       " 'Ethel &amp; Ernest (2016)',\n",
       " 'Paul, Apostle of Christ (2018)',\n",
       " 'Kincsem (2017)',\n",
       " 'LA 92 (2017)',\n",
       " 'Straight Outta Compton (2015)',\n",
       " 'Nise - O CoraÃ§Ã£o da Loucura (2015)',\n",
       " 'Under sandet (2015)',\n",
       " 'Only the Dead (2015)']"
      ]
     },
     "execution_count": 17,
     "metadata": {},
     "output_type": "execute_result"
    }
   ],
   "source": [
    "filter_rec('1', 20, ranked_movies, years=['2015', '2016', '2017', '2018'], genres=['History'])"
   ]
  },
  {
   "cell_type": "code",
   "execution_count": 18,
   "metadata": {},
   "outputs": [
    {
     "data": {
      "text/plain": [
       "['MSG 2 the Messenger (2015)',\n",
       " 'Avengers: Age of Ultron Parody (2015)',\n",
       " 'Five Minutes (2017)',\n",
       " 'Let There Be Light (2017)',\n",
       " 'Make Like a Dog (2015)']"
      ]
     },
     "execution_count": 18,
     "metadata": {},
     "output_type": "execute_result"
    }
   ],
   "source": [
    "filter_rec('53968', 5, ranked_movies, years=['2015', '2016', '2017', '2018'])"
   ]
  },
  {
   "cell_type": "code",
   "execution_count": 20,
   "metadata": {},
   "outputs": [
    {
     "data": {
      "text/plain": [
       "['Birlesen Gonuller (2014)',\n",
       " 'Mad As Hell (2014)',\n",
       " \"Hillary's America: The Secret History of the Democratic Party (2016)\",\n",
       " 'The Decline of Western Civilization (1981)',\n",
       " 'Night Will Fall (2014)',\n",
       " \"La passion de Jeanne d'Arc (1928)\",\n",
       " 'Ningen no jÃ´ken (1959)',\n",
       " 'The Message (1977)',\n",
       " 'Amadeus (1984)',\n",
       " 'I Believe in Miracles (2015)']"
      ]
     },
     "execution_count": 20,
     "metadata": {},
     "output_type": "execute_result"
    }
   ],
   "source": [
    "filter_rec('70000', 10, ranked_movies, genres=['History', 'News'])"
   ]
  },
  {
   "cell_type": "code",
   "execution_count": null,
   "metadata": {},
   "outputs": [],
   "source": []
  }
 ],
 "metadata": {
  "kernelspec": {
   "display_name": "Python 3",
   "language": "python",
   "name": "python3"
  },
  "language_info": {
   "codemirror_mode": {
    "name": "ipython",
    "version": 3
   },
   "file_extension": ".py",
   "mimetype": "text/x-python",
   "name": "python",
   "nbconvert_exporter": "python",
   "pygments_lexer": "ipython3",
   "version": "3.6.10"
  }
 },
 "nbformat": 4,
 "nbformat_minor": 4
}
